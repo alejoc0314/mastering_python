{
  "cells": [
    {
      "cell_type": "markdown",
      "metadata": {
        "id": "s4zoHACK_ZWv"
      },
      "source": [
        "## Introducción a Python\n",
        "### Taller # 1"
      ]
    },
    {
      "cell_type": "markdown",
      "metadata": {
        "id": "JQAaBnTrAS1P"
      },
      "source": [
        "### Operaciones Aritméticas"
      ]
    },
    {
      "cell_type": "markdown",
      "metadata": {
        "id": "TaR-uGR3BHqG"
      },
      "source": [
        "Importa las librerías que requieres para completar esta sección del taller"
      ]
    },
    {
      "cell_type": "code",
      "execution_count": null,
      "metadata": {
        "id": "Jrrb61-WBGnq"
      },
      "outputs": [],
      "source": [
        "import math"
      ]
    },
    {
      "cell_type": "markdown",
      "metadata": {
        "id": "1_EzEDB9AEvU"
      },
      "source": [
        "¿Cuanto es 7 elevado a la 10?"
      ]
    },
    {
      "cell_type": "code",
      "execution_count": null,
      "metadata": {
        "colab": {
          "base_uri": "https://localhost:8080/"
        },
        "id": "K3jaUeoS_ioy",
        "outputId": "6104a693-b306-48a0-977b-e97abc011527"
      },
      "outputs": [
        {
          "name": "stdout",
          "output_type": "stream",
          "text": [
            "282475249\n"
          ]
        }
      ],
      "source": [
        "print (7**10)"
      ]
    },
    {
      "cell_type": "markdown",
      "metadata": {
        "id": "Q5L5exlBAaT9"
      },
      "source": [
        "¿Cuál es el logaritmo en base 10 de 10.000?"
      ]
    },
    {
      "cell_type": "code",
      "execution_count": null,
      "metadata": {
        "colab": {
          "base_uri": "https://localhost:8080/"
        },
        "id": "F5757_goAXBl",
        "outputId": "cd8d55aa-fba2-4ec9-cc9b-cc596426a096"
      },
      "outputs": [
        {
          "name": "stdout",
          "output_type": "stream",
          "text": [
            "4.0\n"
          ]
        }
      ],
      "source": [
        "log = math.log10 (10000)\n",
        "print (log)"
      ]
    },
    {
      "cell_type": "markdown",
      "metadata": {
        "id": "bu4YIW8qAqWa"
      },
      "source": [
        "¿Cuál es el seno de $\\frac{π}{2}$?"
      ]
    },
    {
      "cell_type": "code",
      "execution_count": null,
      "metadata": {
        "colab": {
          "base_uri": "https://localhost:8080/"
        },
        "id": "JAtl7d4KAnEL",
        "outputId": "2f66308c-007d-4d80-f5e6-6c37c0481540"
      },
      "outputs": [
        {
          "name": "stdout",
          "output_type": "stream",
          "text": [
            "1.0\n"
          ]
        }
      ],
      "source": [
        "sen = math.sin(math.pi/2)\n",
        "print (sen)"
      ]
    },
    {
      "cell_type": "markdown",
      "metadata": {
        "id": "kdfQOaroBh2s"
      },
      "source": [
        "Crea un **array** de los números enteros del 13 al 20"
      ]
    },
    {
      "cell_type": "code",
      "execution_count": null,
      "metadata": {
        "colab": {
          "base_uri": "https://localhost:8080/"
        },
        "id": "tSI8oNMRBUUz",
        "outputId": "c9e68f99-b1ea-494a-a6b7-9d5037ecb68b"
      },
      "outputs": [
        {
          "name": "stdout",
          "output_type": "stream",
          "text": [
            "[13, 14, 15, 16, 17, 18, 19, 20]\n"
          ]
        }
      ],
      "source": [
        "lista = list (range (13, 21))\n",
        "print (lista)"
      ]
    },
    {
      "cell_type": "markdown",
      "metadata": {
        "id": "F35uISVeB07Y"
      },
      "source": [
        "Múltiplica todos los números del array que creaste por 10"
      ]
    },
    {
      "cell_type": "code",
      "execution_count": null,
      "metadata": {
        "colab": {
          "base_uri": "https://localhost:8080/"
        },
        "id": "EluSOG8vByjy",
        "outputId": "2cb048ee-b6ae-46c9-a070-2b076534c8f5"
      },
      "outputs": [
        {
          "data": {
            "text/plain": [
              "[130, 140, 150, 160, 170, 180, 190, 200]"
            ]
          },
          "execution_count": 12,
          "metadata": {},
          "output_type": "execute_result"
        }
      ],
      "source": [
        "[num*10 for num in lista]"
      ]
    },
    {
      "cell_type": "markdown",
      "metadata": {
        "id": "5qX9_pAMCCjM"
      },
      "source": [
        "### **Strings**"
      ]
    },
    {
      "cell_type": "markdown",
      "metadata": {
        "id": "BTMSGxprCMG2"
      },
      "source": [
        "Declara la expresión:\n",
        "> estoy programando en python\n",
        "\n",
        "en forma de ***String***"
      ]
    },
    {
      "cell_type": "code",
      "execution_count": null,
      "metadata": {
        "colab": {
          "base_uri": "https://localhost:8080/"
        },
        "id": "pNJrlcQ6BvqI",
        "outputId": "29779c1d-79e5-4939-ccb4-7bdbd424be9f"
      },
      "outputs": [
        {
          "name": "stdout",
          "output_type": "stream",
          "text": [
            "estoy programando en python\n"
          ]
        }
      ],
      "source": [
        "print (\"estoy programando en python\")"
      ]
    },
    {
      "cell_type": "markdown",
      "metadata": {
        "id": "-xT0owWqCeSb"
      },
      "source": [
        "Asigna el ***string*** anterior a una variable"
      ]
    },
    {
      "cell_type": "code",
      "execution_count": null,
      "metadata": {
        "colab": {
          "base_uri": "https://localhost:8080/"
        },
        "id": "t0aFkIzYCZH7",
        "outputId": "f418f8a5-a4c2-43df-882c-f5fe08f18b53"
      },
      "outputs": [
        {
          "name": "stdout",
          "output_type": "stream",
          "text": [
            "estoy programando en python\n"
          ]
        }
      ],
      "source": [
        "frase1 = (\"estoy programando en python\")\n",
        "print (frase1)"
      ]
    },
    {
      "cell_type": "markdown",
      "metadata": {
        "id": "j3ivQ17dCnC2"
      },
      "source": [
        "Separa el ***string***:\n",
        ">estoy programando en python\n",
        "\n",
        "en las palabras que lo componen"
      ]
    },
    {
      "cell_type": "code",
      "execution_count": null,
      "metadata": {
        "colab": {
          "base_uri": "https://localhost:8080/"
        },
        "id": "Zi4is6FBCmUw",
        "outputId": "ce98c624-524b-4f49-e435-35f001fe3b05"
      },
      "outputs": [
        {
          "data": {
            "text/plain": [
              "['estoy', 'programando', 'en', 'python']"
            ]
          },
          "execution_count": 75,
          "metadata": {},
          "output_type": "execute_result"
        }
      ],
      "source": [
        "frase1.split (\" \")"
      ]
    },
    {
      "cell_type": "markdown",
      "metadata": {
        "id": "VsoFFxcDC75f"
      },
      "source": [
        "Separa el **string**:\n",
        ">Bacteria/Pseudomonadota/Gammaproteobacteria/Enterobacterales/Enterobacteriaceae/Escherichia/E. coli\n",
        "\n",
        "por el uso de \"/\""
      ]
    },
    {
      "cell_type": "code",
      "execution_count": null,
      "metadata": {
        "colab": {
          "base_uri": "https://localhost:8080/"
        },
        "id": "aTPBA_1xC59B",
        "outputId": "8329fb7e-ddff-403c-fe2c-ceab205b6dff"
      },
      "outputs": [
        {
          "name": "stdout",
          "output_type": "stream",
          "text": [
            "['Bacteria', 'Pseudomonadota', 'Gammaproteobacteria', 'Enterobacterales', 'Enterobacteriaceae', 'Escherichia', 'E. coli']\n"
          ]
        }
      ],
      "source": [
        "frase2 = (\"Bacteria/Pseudomonadota/Gammaproteobacteria/Enterobacterales/Enterobacteriaceae/Escherichia/E. coli\")\n",
        "split = frase2.split(\"/\")\n",
        "print (split)"
      ]
    },
    {
      "cell_type": "markdown",
      "metadata": {
        "id": "3HJ758H3DghX"
      },
      "source": [
        "Convierte todas las letras del **string**\n",
        ">\"me gusta python\"\n",
        "\n",
        "a mayúsculas"
      ]
    },
    {
      "cell_type": "code",
      "execution_count": null,
      "metadata": {
        "colab": {
          "base_uri": "https://localhost:8080/"
        },
        "id": "BxFuw-4mDaaD",
        "outputId": "684d908b-b591-4854-b1fd-930b89fdd84a"
      },
      "outputs": [
        {
          "name": "stdout",
          "output_type": "stream",
          "text": [
            "ME GUSTA PYTHON\n"
          ]
        }
      ],
      "source": [
        "frase3 = (\"me gusta python\")\n",
        "mayus = frase3.upper ()\n",
        "print (mayus)"
      ]
    },
    {
      "cell_type": "markdown",
      "metadata": {
        "id": "xXAlDnZlDywn"
      },
      "source": [
        "Convierte a mayúsculas solo la primera letra de cada palabra del ***string***\n",
        ">\"me gusta python\""
      ]
    },
    {
      "cell_type": "code",
      "execution_count": null,
      "metadata": {
        "colab": {
          "base_uri": "https://localhost:8080/"
        },
        "id": "UnDwIwrIDxWE",
        "outputId": "d4a9dd71-84c9-4a52-ca6b-7a632597c018"
      },
      "outputs": [
        {
          "name": "stdout",
          "output_type": "stream",
          "text": [
            "Me Gusta Python\n"
          ]
        }
      ],
      "source": [
        "frase3 = (\"me gusta python\")\n",
        "mayusT = frase3.title ()\n",
        "print (mayusT)"
      ]
    },
    {
      "cell_type": "markdown",
      "metadata": {
        "id": "ANIqu3kdH-Ib"
      },
      "source": [
        "Remplaza \"/\" en el ***string***\n",
        ">\" Dominio/Filo/Clase/Orden/Familia/Genero/Especie/\"\n",
        "\n",
        "por \" \\n \", luego imprimelo"
      ]
    },
    {
      "cell_type": "code",
      "execution_count": null,
      "metadata": {
        "colab": {
          "base_uri": "https://localhost:8080/"
        },
        "id": "RQ65wN_6IXpB",
        "outputId": "8c3a420f-c562-40b4-b1d8-5557cf24f023"
      },
      "outputs": [
        {
          "name": "stdout",
          "output_type": "stream",
          "text": [
            "Dominio\n",
            "Filo\n",
            "Clase\n",
            "Orden\n",
            "Familia\n",
            "Genero\n",
            "Especie\n",
            "\n"
          ]
        }
      ],
      "source": [
        "frase4 = (\"Dominio/Filo/Clase/Orden/Familia/Genero/Especie/\")\n",
        "replace = frase4.replace (\"/\", \"\\n\")\n",
        "print (replace)"
      ]
    },
    {
      "cell_type": "markdown",
      "metadata": {
        "id": "Wqg9ALynMia1"
      },
      "source": [
        "Empleando las variables:\n",
        "\n",
        "```\n",
        "planet = \"Tierra\"\n",
        "diameter = 12742\n",
        "```\n",
        "\n",
        "Use ***.format()*** para imprimir el siguiente ***string***:\n",
        "\n",
        "\n",
        "```\n",
        "\"El radio del planeta Tierra es 6,371 kilometros\"\n",
        "```"
      ]
    },
    {
      "cell_type": "code",
      "execution_count": null,
      "metadata": {
        "colab": {
          "base_uri": "https://localhost:8080/"
        },
        "id": "gOpeNIf1MhiX",
        "outputId": "8de510bc-1027-4ad0-a5e9-96740985ff7f"
      },
      "outputs": [
        {
          "name": "stdout",
          "output_type": "stream",
          "text": [
            "El radio del planeta Tierra es 6,371 kilometros\n"
          ]
        }
      ],
      "source": [
        "planet = \"Tierra\"\n",
        "diameter = 12742//2\n",
        "diameterFormated =  '{:,}'.format(diameter)\n",
        "print(f\"El radio del planeta {planet} es {(diameterFormated)} kilometros\")"
      ]
    },
    {
      "cell_type": "markdown",
      "metadata": {
        "id": "OokmpGwkEJWY"
      },
      "source": [
        "Dado el ***string***:\n",
        "\n",
        "```\n",
        "\"Bacteria/Pseudomonadota/Gammaproteobacteria/Enterobacterales/Enterobacteriaceae/Escherichia/E. coli\"\n",
        "```\n",
        "\n",
        "Usa ***.format()*** para imprimir el sigueinte ***string***:\n",
        "\n",
        "\n",
        "```\n",
        "Dominio: Bacteria\n",
        "Filo: Pseudomonadota\n",
        "Clase: Gammaproteobacteria\n",
        "Orden: Enterobacterales\n",
        "Familia: Enterobacteriaceae\n",
        "Genero: Escherichia\n",
        "Especie: E. coli\n",
        "```"
      ]
    },
    {
      "cell_type": "code",
      "execution_count": null,
      "metadata": {
        "colab": {
          "base_uri": "https://localhost:8080/"
        },
        "id": "7sjcENoED8xl",
        "outputId": "ad3a863b-a2b0-4516-b411-282440637269"
      },
      "outputs": [
        {
          "name": "stdout",
          "output_type": "stream",
          "text": [
            "Dominio: Bacteria\n",
            "Filo: Pseudomonadota\n",
            "Clase: Gammaproteobacteria\n",
            "Orden: Enterobacterales\n",
            "Familia: Enterobacteriaceae\n",
            "Genero: Escherichia\n",
            "Especie: E. coli\n"
          ]
        }
      ],
      "source": [
        "frase6=frase4.split(\"/\")\n",
        "for i in range(0,7):\n",
        "  print (\"{}: {}\".format(frase6[i],split[i]))\n"
      ]
    },
    {
      "cell_type": "markdown",
      "metadata": {
        "id": "c33HERUYXm_B"
      },
      "source": [
        "\n",
        "\n",
        "```\n",
        "# Tiene formato de código\n",
        "```\n",
        "\n",
        "### Estructuras de Datos"
      ]
    },
    {
      "cell_type": "markdown",
      "metadata": {
        "id": "jWJL8ugqX9P5"
      },
      "source": [
        "Extrae la palabra \"mosca\" de la siguiente lista:\n",
        "\n",
        "\n",
        "```\n",
        "lst = [1 , 2, [3 , 4], [5, [100, 200, ['mosca']], 23, 11], 1, 7]\n",
        "```\n",
        "\n"
      ]
    },
    {
      "cell_type": "code",
      "execution_count": null,
      "metadata": {
        "colab": {
          "base_uri": "https://localhost:8080/"
        },
        "id": "jzws8I8BGYd6",
        "outputId": "8396896c-6bf9-4743-9177-bfc3a3af6957"
      },
      "outputs": [
        {
          "name": "stdout",
          "output_type": "stream",
          "text": [
            "mosca\n"
          ]
        }
      ],
      "source": [
        "lst = [1 , 2, [3 , 4], [5, [100, 200, ['mosca']], 23, 11], 1, 7]\n",
        "\n",
        "mosca = lst[3][1][2][0]\n",
        "\n",
        "print(mosca)"
      ]
    },
    {
      "cell_type": "markdown",
      "metadata": {
        "id": "-P7m1I94Yjpf"
      },
      "source": [
        "Extrae la palabra \"sapo\" del siguiente diccionario:\n",
        "\n",
        "\n",
        "```\n",
        "dct = {'k1':[1, 2, 3, {'trampa': ['oh', 'hombre', 'inteligente', {'objetivo': [1, 2, 3, 'sapo']}]}]}\n",
        "```\n",
        "\n"
      ]
    },
    {
      "cell_type": "code",
      "execution_count": null,
      "metadata": {
        "colab": {
          "base_uri": "https://localhost:8080/"
        },
        "id": "H039VhnjY1gK",
        "outputId": "61355e67-c674-4c80-eaf2-827c465b7816"
      },
      "outputs": [
        {
          "name": "stdout",
          "output_type": "stream",
          "text": [
            "sapo\n"
          ]
        }
      ],
      "source": [
        "dct = {'k1':[1, 2, 3, {'trampa': ['oh', 'hombre', 'inteligente', {'objetivo': [1, 2, 3, 'sapo']}]}]}\n",
        "\n",
        "sapo = dct['k1'][3]['trampa'][3]['objetivo'][3]\n",
        "\n",
        "print(sapo)"
      ]
    },
    {
      "cell_type": "markdown",
      "metadata": {
        "id": "jjGZAomuZBOa"
      },
      "source": [
        "### Funciones"
      ]
    },
    {
      "cell_type": "markdown",
      "metadata": {
        "id": "8Ao_UvcdZKmO"
      },
      "source": [
        "Escribe una función que extraiga el dominio de un correo de la forma:\n",
        "> usuario@domain.com\n",
        "\n",
        "Por ejemplo, si le pasamos \"ruben.vargas@gmail.com\", debería retornar \"gmail.com\"\n"
      ]
    },
    {
      "cell_type": "code",
      "execution_count": null,
      "metadata": {
        "id": "VdIA0GgYY3Xz"
      },
      "outputs": [],
      "source": [
        "def domain_extractor(email):\n",
        "  emailSplit = email.split(\"@\")\n",
        "  dominio = emailSplit[1]\n",
        "  return dominio"
      ]
    },
    {
      "cell_type": "code",
      "execution_count": null,
      "metadata": {
        "colab": {
          "base_uri": "https://localhost:8080/"
        },
        "id": "BM6S4wlZceZd",
        "outputId": "bcfa2265-6276-4094-ed07-c875d7c39510"
      },
      "outputs": [
        {
          "name": "stdout",
          "output_type": "stream",
          "text": [
            "eafit.com.co\n"
          ]
        }
      ],
      "source": [
        "dominioReturn = domain_extractor('ruben.vargas@eafit.com.co')\n",
        "\n",
        "print(dominioReturn)"
      ]
    },
    {
      "cell_type": "markdown",
      "metadata": {
        "id": "DJZIhCVTcmtU"
      },
      "source": [
        "### Funciones, Condicionales y Bucles"
      ]
    },
    {
      "cell_type": "markdown",
      "metadata": {
        "id": "4QCk6MkectPO"
      },
      "source": [
        "[texto del enlace](https://)Cree una función que retorna **True**, Si el ***int*** (Número Entero Positivo) que ingresa como input es un número primo, ***False*** de lo contrario\n",
        "\n",
        "\n",
        "\n",
        "\n"
      ]
    },
    {
      "cell_type": "code",
      "execution_count": null,
      "metadata": {
        "id": "MJuDhaQrchaA"
      },
      "outputs": [],
      "source": [
        "def prime(number):\n",
        "  modNum = number%number\n",
        "  modOne = number%1\n",
        "  if (modNum == 0 and modOne == 0):\n",
        "    return True\n",
        "  else:\n",
        "    return False"
      ]
    },
    {
      "cell_type": "code",
      "execution_count": null,
      "metadata": {
        "colab": {
          "base_uri": "https://localhost:8080/"
        },
        "id": "TWVWqoylb9CV",
        "outputId": "d349a374-42bf-4751-bef4-7da1c12f09cc"
      },
      "outputs": [
        {
          "data": {
            "text/plain": [
              "True"
            ]
          },
          "execution_count": 62,
          "metadata": {},
          "output_type": "execute_result"
        }
      ],
      "source": [
        "prime(3)"
      ]
    },
    {
      "cell_type": "markdown",
      "metadata": {
        "id": "qoeckhBOPslu"
      },
      "source": [
        "Declare una función en forma de ***lambda*** que determine si la última letra de un ***string*** es \"s\""
      ]
    },
    {
      "cell_type": "code",
      "execution_count": null,
      "metadata": {
        "id": "B5R4QvOrQRI9"
      },
      "outputs": [],
      "source": [
        "last_letter_s = lambda word: word.lower()[-1] == 's'"
      ]
    },
    {
      "cell_type": "code",
      "execution_count": null,
      "metadata": {
        "colab": {
          "base_uri": "https://localhost:8080/"
        },
        "id": "8HAYv9MoQScN",
        "outputId": "8b5dbed3-1701-4682-e1e4-0a94cdb17bf9"
      },
      "outputs": [
        {
          "data": {
            "text/plain": [
              "True"
            ]
          },
          "execution_count": 67,
          "metadata": {},
          "output_type": "execute_result"
        }
      ],
      "source": [
        "last_letter_s('perros')"
      ]
    },
    {
      "cell_type": "code",
      "execution_count": null,
      "metadata": {
        "colab": {
          "base_uri": "https://localhost:8080/"
        },
        "id": "09pl7GvqQdg9",
        "outputId": "7f961301-5b11-4513-fc55-11a6d214eb6b"
      },
      "outputs": [
        {
          "data": {
            "text/plain": [
              "False"
            ]
          },
          "execution_count": 60,
          "metadata": {},
          "output_type": "execute_result"
        }
      ],
      "source": [
        "last_letter_s('gato')"
      ]
    },
    {
      "cell_type": "markdown",
      "metadata": {
        "id": "cYMEDN6kQiyA"
      },
      "source": [
        "Aplique la función\n",
        "```\n",
        "filter\n",
        "```\n",
        "de Python, para filtrar la siguiente lista:\n",
        "\n",
        "\n",
        "```\n",
        "['perros', 'gato', 'aves', 'león', 'sapo', 'lagartos']\n",
        "```\n",
        "\n",
        "Aplicando la función que creo en el ejercicio anterios, para obtener:\n",
        "\n",
        "\n",
        "```\n",
        "['perros', 'aves', 'lagartos']\n",
        "```\n",
        "\n",
        "Pista: https://www.geeksforgeeks.org/lambda-filter-python-examples/\n",
        "\n",
        "\n",
        "\n",
        "\n"
      ]
    },
    {
      "cell_type": "code",
      "execution_count": null,
      "metadata": {
        "id": "DIBltsOcQhOA"
      },
      "outputs": [],
      "source": [
        "animales = ['perros', 'gato', 'aves', 'león', 'sapo', 'lagartos']\n",
        "\n",
        "datos = list(filter(last_letter_s, animales))"
      ]
    },
    {
      "cell_type": "code",
      "execution_count": null,
      "metadata": {
        "colab": {
          "base_uri": "https://localhost:8080/"
        },
        "id": "xcTAZMguPhIb",
        "outputId": "3c94d4cb-be66-4416-eccd-48239935b383"
      },
      "outputs": [
        {
          "name": "stdout",
          "output_type": "stream",
          "text": [
            "['perros', 'aves', 'lagartos']\n"
          ]
        }
      ],
      "source": [
        "print(datos)"
      ]
    }
  ],
  "metadata": {
    "colab": {
      "provenance": []
    },
    "kernelspec": {
      "display_name": "Python 3",
      "name": "python3"
    },
    "language_info": {
      "name": "python"
    }
  },
  "nbformat": 4,
  "nbformat_minor": 0
}
